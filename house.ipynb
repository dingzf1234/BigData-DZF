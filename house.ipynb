{
 "cells": [
  {
   "cell_type": "code",
   "execution_count": 1,
   "metadata": {
    "collapsed": false
   },
   "outputs": [
    {
     "name": "stdout",
     "output_type": "stream",
     "text": [
      "Welcome to\n",
      "      ____              __\n",
      "     / __/__  ___ _____/ /__\n",
      "    _\\ \\/ _ \\/ _ `/ __/  '_/\n",
      "   /__ / .__/\\_,_/_/ /_/\\_\\   version 2.4.5\n",
      "      /_/\n",
      "\n",
      "Using Python version 3.5.2 (default, Jul  5 2016 11:41:13)\n",
      "SparkSession available as 'spark'.\n"
     ]
    }
   ],
   "source": [
    "# 2017013207 电商1701 丁泽锋\n",
    "# 2020-05-02\n",
    "import os\n",
    "import sys\n",
    "spark_name = os.environ.get('SPARK_HOME',None)\n",
    "if not spark_name:\n",
    "    raise ValueErrorError('spark环境没有配置好')\n",
    "sys.path.insert(0,os.path.join(spark_name,'python'))\n",
    "sys.path.insert(0,os.path.join(spark_name,'python/lib/py4j-0.10.7-src.zip'))\n",
    "exec(open(os.path.join(spark_name,'python/pyspark/shell.py')).read())"
   ]
  },
  {
   "cell_type": "code",
   "execution_count": 3,
   "metadata": {
    "collapsed": false
   },
   "outputs": [
    {
     "name": "stdout",
     "output_type": "stream",
     "text": [
      "+---+-------+----+-----+----+-----+-----+----+------+---+---+-------+------+-----+-----+\n",
      "| ID|   crim|  zn|indus|chas|  nox|   rm| age|   dis|rad|tax|ptratio| black|lstat| medv|\n",
      "+---+-------+----+-----+----+-----+-----+----+------+---+---+-------+------+-----+-----+\n",
      "|  1|0.00632|18.0| 2.31|   0|0.538|6.575|65.2|  4.09|  1|296|   15.3| 396.9| 4.98| 24.0|\n",
      "|  2|0.02731| 0.0| 7.07|   0|0.469|6.421|78.9|4.9671|  2|242|   17.8| 396.9| 9.14| 21.6|\n",
      "|  3|0.02729| 0.0| 7.07|   0|0.469|7.185|61.1|4.9671|  2|242|   17.8|392.83| 4.03|22.77|\n",
      "+---+-------+----+-----+----+-----+-----+----+------+---+---+-------+------+-----+-----+\n",
      "only showing top 3 rows\n",
      "\n"
     ]
    }
   ],
   "source": [
    "from pyspark.sql import SparkSession\n",
    "spark = SparkSession.builder.appName('learn_regression').master('local[1]').getOrCreate()\n",
    "# 数据导入\n",
    "df_train = spark.read.csv('D:/code/Spark/data/train.csv', header=True, inferSchema=True, encoding='utf-8')\n",
    "df_test = spark.read.csv('D:/code/Spark/data/test.csv', header=True, inferSchema=True, encoding='utf-8')\n",
    "# 表合并\n",
    "from pyspark.sql.functions import lit\n",
    "df_test = df_test.withColumn('medv', lit(22.77))\n",
    "df0 = df_train.union(df_test).sort('ID')\n",
    "df0.show(3)\n"
   ]
  },
  {
   "cell_type": "code",
   "execution_count": 4,
   "metadata": {
    "collapsed": true
   },
   "outputs": [],
   "source": [
    "from pyspark.ml.feature import VectorAssembler\n",
    "def feature_converter(df):\n",
    "    vecAss = VectorAssembler(inputCols=df0.columns[1:-1], outputCol='features')\n",
    "    df_va = vecAss.transform(df)\n",
    "    return df_va\n",
    "\n",
    "train_data, test_data = feature_converter(df0).select(['features', 'medv']).randomSplit([7.0, 3.0], 101)\n"
   ]
  },
  {
   "cell_type": "code",
   "execution_count": 6,
   "metadata": {
    "collapsed": false
   },
   "outputs": [
    {
     "data": {
      "text/plain": [
       "SparseVector(13, {0: 0.0503, 2: 0.011, 4: 0.0622, 5: 0.1441, 6: 0.1852, 7: 0.0262, 8: 0.0022, 9: 0.0886, 10: 0.0142, 12: 0.4159})"
      ]
     },
     "execution_count": 6,
     "metadata": {},
     "output_type": "execute_result"
    }
   ],
   "source": [
    "from pyspark.ml.regression import DecisionTreeRegressor\n",
    "dt = DecisionTreeRegressor(maxDepth=5, varianceCol=\"variance\", labelCol='medv')\n",
    "dt_model = dt.fit(train_data)\n",
    "\n",
    "dt_model.featureImportances\n"
   ]
  },
  {
   "cell_type": "code",
   "execution_count": 7,
   "metadata": {
    "collapsed": false
   },
   "outputs": [
    {
     "name": "stdout",
     "output_type": "stream",
     "text": [
      "+--------------------+-----+------------------+------------------+\n",
      "|            features| medv|        prediction|          variance|\n",
      "+--------------------+-----+------------------+------------------+\n",
      "|[0.03237,0.0,2.18...| 33.4| 34.12833333333334|29.509013888888756|\n",
      "|[0.08829,12.5,7.8...| 22.9|21.195135135135136| 4.446162819576342|\n",
      "|[0.14455,12.5,7.8...|22.77|22.425999999999995|0.5578440000003866|\n",
      "+--------------------+-----+------------------+------------------+\n",
      "only showing top 3 rows\n",
      "\n"
     ]
    }
   ],
   "source": [
    "result = dt_model.transform(test_data)\n",
    "result.show(3)"
   ]
  },
  {
   "cell_type": "code",
   "execution_count": 8,
   "metadata": {
    "collapsed": false
   },
   "outputs": [
    {
     "name": "stdout",
     "output_type": "stream",
     "text": [
      "测试数据的均方根误差（rmse）:6.555920141221407\n"
     ]
    }
   ],
   "source": [
    "from pyspark.ml.evaluation import RegressionEvaluator\n",
    "dt_evaluator = RegressionEvaluator(labelCol='medv', metricName=\"rmse\", predictionCol='prediction')\n",
    "rmse = dt_evaluator.evaluate(result)\n",
    "print('测试数据的均方根误差（rmse）:{}'.format(rmse))\n"
   ]
  },
  {
   "cell_type": "code",
   "execution_count": null,
   "metadata": {
    "collapsed": true
   },
   "outputs": [],
   "source": []
  }
 ],
 "metadata": {
  "anaconda-cloud": {},
  "kernelspec": {
   "display_name": "Python [Root]",
   "language": "python",
   "name": "Python [Root]"
  },
  "language_info": {
   "codemirror_mode": {
    "name": "ipython",
    "version": 3
   },
   "file_extension": ".py",
   "mimetype": "text/x-python",
   "name": "python",
   "nbconvert_exporter": "python",
   "pygments_lexer": "ipython3",
   "version": "3.5.2"
  }
 },
 "nbformat": 4,
 "nbformat_minor": 0
}
